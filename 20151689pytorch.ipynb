{
 "cells": [
  {
   "cell_type": "code",
   "execution_count": 1,
   "metadata": {},
   "outputs": [],
   "source": [
    "import torch\n",
    "import torch.nn as nn\n",
    "import torch.nn.functional as F\n",
    "import numpy as np"
   ]
  },
  {
   "cell_type": "code",
   "execution_count": 2,
   "metadata": {},
   "outputs": [],
   "source": [
    "device = torch.device('cuda' if torch.cuda.is_available() else 'cpu')"
   ]
  },
  {
   "cell_type": "code",
   "execution_count": 3,
   "metadata": {},
   "outputs": [],
   "source": [
    "#파일 불러오기\n",
    "training_file = 'C:/Users/user/training.dat'\n",
    "testing_file = 'C:/Users/user/testing.dat'\n",
    "training = open(training_file)\n",
    "testing = open(testing_file)\n",
    "\n",
    "train_X = []\n",
    "train_Y = []\n",
    "test_X = []\n",
    "test_Y = []\n",
    "for line in training:\n",
    "    line = list(map(float, line.split()))\n",
    "    train_X.append(line[:3])\n",
    "    train_Y.append(line[3:])\n",
    "\n",
    "train_X1 = torch.from_numpy(np.array(train_X[0:25])).float().to(device)\n",
    "train_Y1 = torch.from_numpy(np.array(train_Y[0:25])).float().to(device)\n",
    "train_X2 = torch.from_numpy(np.array(train_X[25:50])).float().to(device)\n",
    "train_Y2 = torch.from_numpy(np.array(train_Y[25:50])).float().to(device)\n",
    "train_X3 = torch.from_numpy(np.array(train_X[50:75])).float().to(device)\n",
    "train_Y3 = torch.from_numpy(np.array(train_Y[50:75])).float().to(device)\n",
    "\n",
    "for line in testing:\n",
    "    line = list(map(float, line.split()))\n",
    "    test_X.append(line[:3])\n",
    "    test_Y.append(line[3:])\n",
    "    \n",
    "test_X1 = torch.from_numpy(np.array(test_X[0:25])).float().to(device)\n",
    "test_Y1 = torch.from_numpy(np.array(test_Y[0:25])).float().to(device)\n",
    "test_X2 = torch.from_numpy(np.array(test_X[25:50])).float().to(device)\n",
    "test_Y2 = torch.from_numpy(np.array(test_Y[25:50])).float().to(device)\n",
    "test_X3 = torch.from_numpy(np.array(test_X[50:75])).float().to(device)\n",
    "test_Y3 = torch.from_numpy(np.array(test_Y[50:75])).float().to(device)\n",
    "\n",
    "training.close()\n",
    "testing.close()"
   ]
  },
  {
   "cell_type": "code",
   "execution_count": 4,
   "metadata": {},
   "outputs": [],
   "source": [
    "#신경망구조\n",
    "class Net(nn.Module):\n",
    "    def __init__(self):\n",
    "        super(Net, self).__init__()\n",
    "        self.fc1 = nn.Linear(3,10)\n",
    "        self.fc2 = nn.Linear(10,5)\n",
    "        self.fc3 = nn.Linear(5,1)\n",
    "    def forward(self, x):\n",
    "        x = self.fc1(x)\n",
    "        x = F.relu(x)\n",
    "        x = self.fc2(x)\n",
    "        x = F.relu(x)\n",
    "        x = self.fc3(x)\n",
    "        return x"
   ]
  },
  {
   "cell_type": "code",
   "execution_count": 5,
   "metadata": {},
   "outputs": [],
   "source": [
    "#신경망 만들기\n",
    "model1 = Net().to(device)\n",
    "model2 = Net().to(device)\n",
    "model3 = Net().to(device)\n",
    "optimizer1 = torch.optim.SGD(model1.parameters(), lr = 0.01)\n",
    "optimizer2 = torch.optim.SGD(model2.parameters(), lr = 0.01)\n",
    "optimizer3 = torch.optim.SGD(model3.parameters(), lr = 0.01)"
   ]
  },
  {
   "cell_type": "code",
   "execution_count": 6,
   "metadata": {
    "scrolled": true
   },
   "outputs": [
    {
     "name": "stdout",
     "output_type": "stream",
     "text": [
      "Epoch    0/200 Cost: 6.434331\n",
      "Epoch   10/200 Cost: 1.707758\n",
      "Epoch   20/200 Cost: 0.037405\n",
      "Epoch   30/200 Cost: 0.037306\n",
      "Epoch   40/200 Cost: 0.037208\n",
      "Epoch   50/200 Cost: 0.037083\n",
      "Epoch   60/200 Cost: 0.036974\n",
      "Epoch   70/200 Cost: 0.036878\n",
      "Epoch   80/200 Cost: 0.036756\n",
      "Epoch   90/200 Cost: 0.036638\n",
      "Epoch  100/200 Cost: 0.036388\n",
      "Epoch  110/200 Cost: 0.036066\n",
      "Epoch  120/200 Cost: 0.035963\n",
      "Epoch  130/200 Cost: 0.035891\n",
      "Epoch  140/200 Cost: 0.035834\n",
      "Epoch  150/200 Cost: 0.035778\n",
      "Epoch  160/200 Cost: 0.035717\n",
      "Epoch  170/200 Cost: 0.035651\n",
      "Epoch  180/200 Cost: 0.035586\n",
      "Epoch  190/200 Cost: 0.035523\n",
      "Epoch  200/200 Cost: 0.035473\n",
      "Cost:  0.07057123631238937\n"
     ]
    }
   ],
   "source": [
    "nb_epochs = 200\n",
    "#첫번째 신경망 학습\n",
    "for epoch in range(nb_epochs+1):\n",
    "    prediction = model1(train_X1)\n",
    "    \n",
    "    cost1 = F.mse_loss(prediction, train_Y1)\n",
    "    \n",
    "    optimizer1.zero_grad()\n",
    "    cost1.backward()\n",
    "    optimizer1.step()\n",
    "    \n",
    "    if epoch % 10 == 0:\n",
    "        print('Epoch {:4d}/{} Cost: {:.6f}'.format(\n",
    "          epoch, nb_epochs, cost1.item()\n",
    "      ))\n",
    "#첫번째 신경망 테스트\n",
    "prediction = model1(test_X1)\n",
    "cost = F.mse_loss(prediction, test_Y1)\n",
    "print('Cost: ', cost.item())"
   ]
  },
  {
   "cell_type": "code",
   "execution_count": 7,
   "metadata": {},
   "outputs": [
    {
     "name": "stdout",
     "output_type": "stream",
     "text": [
      "Epoch    0/200 Cost: 0.107873\n",
      "Epoch   10/200 Cost: 0.027360\n",
      "Epoch   20/200 Cost: 0.027278\n",
      "Epoch   30/200 Cost: 0.027252\n",
      "Epoch   40/200 Cost: 0.027226\n",
      "Epoch   50/200 Cost: 0.027200\n",
      "Epoch   60/200 Cost: 0.027174\n",
      "Epoch   70/200 Cost: 0.027148\n",
      "Epoch   80/200 Cost: 0.027123\n",
      "Epoch   90/200 Cost: 0.027097\n",
      "Epoch  100/200 Cost: 0.027072\n",
      "Epoch  110/200 Cost: 0.027046\n",
      "Epoch  120/200 Cost: 0.027021\n",
      "Epoch  130/200 Cost: 0.026995\n",
      "Epoch  140/200 Cost: 0.026970\n",
      "Epoch  150/200 Cost: 0.026945\n",
      "Epoch  160/200 Cost: 0.026920\n",
      "Epoch  170/200 Cost: 0.026895\n",
      "Epoch  180/200 Cost: 0.026869\n",
      "Epoch  190/200 Cost: 0.026844\n",
      "Epoch  200/200 Cost: 0.026819\n",
      "Cost:  0.018671933561563492\n"
     ]
    }
   ],
   "source": [
    "#두번째 신경망 학습\n",
    "for epoch in range(nb_epochs+1):\n",
    "    prediction2 = model2(train_X2)\n",
    "    \n",
    "    cost2 = F.mse_loss(prediction2, train_Y2)\n",
    "    \n",
    "    optimizer2.zero_grad()\n",
    "    cost2.backward()\n",
    "    optimizer2.step()\n",
    "    \n",
    "    if epoch % 10 == 0:\n",
    "        print('Epoch {:4d}/{} Cost: {:.6f}'.format(\n",
    "          epoch, nb_epochs, cost2.item()\n",
    "      ))\n",
    "#두번째 신경망 테스트\n",
    "prediction2 = model2(test_X2)\n",
    "cost = F.mse_loss(prediction2, test_Y2)\n",
    "print('Cost: ', cost.item())"
   ]
  },
  {
   "cell_type": "code",
   "execution_count": 8,
   "metadata": {},
   "outputs": [
    {
     "name": "stdout",
     "output_type": "stream",
     "text": [
      "Epoch    0/200 Cost: 0.031130\n",
      "Epoch   10/200 Cost: 0.007931\n",
      "Epoch   20/200 Cost: 0.007818\n",
      "Epoch   30/200 Cost: 0.007817\n",
      "Epoch   40/200 Cost: 0.007816\n",
      "Epoch   50/200 Cost: 0.007815\n",
      "Epoch   60/200 Cost: 0.007814\n",
      "Epoch   70/200 Cost: 0.007813\n",
      "Epoch   80/200 Cost: 0.007812\n",
      "Epoch   90/200 Cost: 0.007811\n",
      "Epoch  100/200 Cost: 0.007810\n",
      "Epoch  110/200 Cost: 0.007809\n",
      "Epoch  120/200 Cost: 0.007808\n",
      "Epoch  130/200 Cost: 0.007807\n",
      "Epoch  140/200 Cost: 0.007806\n",
      "Epoch  150/200 Cost: 0.007805\n",
      "Epoch  160/200 Cost: 0.007804\n",
      "Epoch  170/200 Cost: 0.007803\n",
      "Epoch  180/200 Cost: 0.007802\n",
      "Epoch  190/200 Cost: 0.007801\n",
      "Epoch  200/200 Cost: 0.007800\n",
      "Cost:  0.014083702117204666\n"
     ]
    }
   ],
   "source": [
    "#세번째 신경망 학습\n",
    "for epoch in range(nb_epochs+1):\n",
    "    prediction3 = model3(train_X3)\n",
    "    \n",
    "    cost3 = F.mse_loss(prediction3, train_Y3)\n",
    "    \n",
    "    optimizer3.zero_grad()\n",
    "    cost3.backward()\n",
    "    optimizer3.step()\n",
    "    \n",
    "    if epoch % 10 == 0:\n",
    "        print('Epoch {:4d}/{} Cost: {:.6f}'.format(\n",
    "          epoch, nb_epochs, cost3.item()\n",
    "      ))\n",
    "#세번째 신경망 테스트\n",
    "prediction3 = model3(test_X3)\n",
    "cost = F.mse_loss(prediction3, test_Y3)\n",
    "print('Cost: ', cost.item())"
   ]
  },
  {
   "cell_type": "code",
   "execution_count": null,
   "metadata": {},
   "outputs": [],
   "source": []
  }
 ],
 "metadata": {
  "kernelspec": {
   "display_name": "Python 3",
   "language": "python",
   "name": "python3"
  },
  "language_info": {
   "codemirror_mode": {
    "name": "ipython",
    "version": 3
   },
   "file_extension": ".py",
   "mimetype": "text/x-python",
   "name": "python",
   "nbconvert_exporter": "python",
   "pygments_lexer": "ipython3",
   "version": "3.8.3"
  }
 },
 "nbformat": 4,
 "nbformat_minor": 4
}
